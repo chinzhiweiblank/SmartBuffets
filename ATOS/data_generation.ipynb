{
 "cells": [
  {
   "cell_type": "code",
   "execution_count": 1,
   "metadata": {},
   "outputs": [],
   "source": [
    "# Generating Sample Data\n",
    "\n",
    "import math\n",
    "import pandas as pd\n",
    "import random\n",
    "import matplotlib.pyplot as plt\n",
    "from datetime import datetime, timedelta"
   ]
  },
  {
   "cell_type": "code",
   "execution_count": 5,
   "metadata": {},
   "outputs": [
    {
     "name": "stdout",
     "output_type": "stream",
     "text": [
      "['04/23/2019, 23:23:21', '04/23/2019, 23:23:41', '04/23/2019, 23:24:01', '04/23/2019, 23:24:21', '04/23/2019, 23:24:41', '04/23/2019, 23:25:01', '04/23/2019, 23:25:21', '04/23/2019, 23:25:41', '04/23/2019, 23:26:01', '04/23/2019, 23:26:21']\n",
      "250\n",
      "0.04\n"
     ]
    }
   ],
   "source": [
    "x = list(range(0,5000,20))\n",
    "y = [(10000-2*i)/1000 for i in x]\n",
    "test_data = pd.DataFrame(y, x, columns= [\"Y\"])\n",
    "new_x = [(datetime.now() + timedelta(seconds = i)).strftime('%m/%d/%Y, %H:%M:%S') for i in x]\n",
    "print(new_x[:10])\n",
    "print(len(y))\n",
    "print(y[-1])"
   ]
  },
  {
   "cell_type": "code",
   "execution_count": 6,
   "metadata": {},
   "outputs": [
    {
     "data": {
      "text/html": [
       "<div>\n",
       "<style scoped>\n",
       "    .dataframe tbody tr th:only-of-type {\n",
       "        vertical-align: middle;\n",
       "    }\n",
       "\n",
       "    .dataframe tbody tr th {\n",
       "        vertical-align: top;\n",
       "    }\n",
       "\n",
       "    .dataframe thead th {\n",
       "        text-align: right;\n",
       "    }\n",
       "</style>\n",
       "<table border=\"1\" class=\"dataframe\">\n",
       "  <thead>\n",
       "    <tr style=\"text-align: right;\">\n",
       "      <th></th>\n",
       "      <th>Y</th>\n",
       "      <th>Date</th>\n",
       "    </tr>\n",
       "  </thead>\n",
       "  <tbody>\n",
       "    <tr>\n",
       "      <th>0</th>\n",
       "      <td>10.00</td>\n",
       "      <td>04/23/2019, 23:23:21</td>\n",
       "    </tr>\n",
       "    <tr>\n",
       "      <th>20</th>\n",
       "      <td>9.96</td>\n",
       "      <td>04/23/2019, 23:23:41</td>\n",
       "    </tr>\n",
       "    <tr>\n",
       "      <th>40</th>\n",
       "      <td>9.92</td>\n",
       "      <td>04/23/2019, 23:24:01</td>\n",
       "    </tr>\n",
       "    <tr>\n",
       "      <th>60</th>\n",
       "      <td>9.88</td>\n",
       "      <td>04/23/2019, 23:24:21</td>\n",
       "    </tr>\n",
       "    <tr>\n",
       "      <th>80</th>\n",
       "      <td>9.84</td>\n",
       "      <td>04/23/2019, 23:24:41</td>\n",
       "    </tr>\n",
       "  </tbody>\n",
       "</table>\n",
       "</div>"
      ],
      "text/plain": [
       "        Y                  Date\n",
       "0   10.00  04/23/2019, 23:23:21\n",
       "20   9.96  04/23/2019, 23:23:41\n",
       "40   9.92  04/23/2019, 23:24:01\n",
       "60   9.88  04/23/2019, 23:24:21\n",
       "80   9.84  04/23/2019, 23:24:41"
      ]
     },
     "execution_count": 6,
     "metadata": {},
     "output_type": "execute_result"
    }
   ],
   "source": [
    "test_data[\"Date\"] = new_x\n",
    "test_data.head()"
   ]
  },
  {
   "cell_type": "code",
   "execution_count": 7,
   "metadata": {},
   "outputs": [],
   "source": [
    "test_data.to_csv(\"tests/food_data.csv\", index = False)"
   ]
  },
  {
   "cell_type": "code",
   "execution_count": null,
   "metadata": {},
   "outputs": [],
   "source": []
  }
 ],
 "metadata": {
  "kernelspec": {
   "display_name": "Python 3",
   "language": "python",
   "name": "python3"
  },
  "language_info": {
   "codemirror_mode": {
    "name": "ipython",
    "version": 3
   },
   "file_extension": ".py",
   "mimetype": "text/x-python",
   "name": "python",
   "nbconvert_exporter": "python",
   "pygments_lexer": "ipython3",
   "version": "3.7.1"
  }
 },
 "nbformat": 4,
 "nbformat_minor": 2
}
